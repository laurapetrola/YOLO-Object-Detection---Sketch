{
 "cells": [
  {
   "cell_type": "code",
   "execution_count": 7,
   "id": "95c8410a",
   "metadata": {},
   "outputs": [
    {
     "name": "stdout",
     "output_type": "stream",
     "text": [
      "Ultralytics 8.3.127  Python-3.13.2 torch-2.7.0+cpu CPU (AMD Ryzen 5 7600X 6-Core Processor)\n",
      "\u001b[34m\u001b[1mengine\\trainer: \u001b[0magnostic_nms=False, amp=True, augment=False, auto_augment=randaugment, batch=16, bgr=0.0, box=7.5, cache=False, cfg=None, classes=None, close_mosaic=10, cls=0.5, conf=None, copy_paste=0.0, copy_paste_mode=flip, cos_lr=False, cutmix=0.0, data=C:\\Users\\Laura\\Documents\\Projetos Github - Portfolio Python\\YOLO Object Detection - Sketch\\weather_dataset, degrees=0.0, deterministic=True, device=cpu, dfl=1.5, dnn=False, dropout=0.0, dynamic=False, embed=None, epochs=20, erasing=0.4, exist_ok=False, fliplr=0.5, flipud=0.0, format=torchscript, fraction=1.0, freeze=None, half=False, hsv_h=0.015, hsv_s=0.7, hsv_v=0.4, imgsz=64, int8=False, iou=0.7, keras=False, kobj=1.0, line_width=None, lr0=0.01, lrf=0.01, mask_ratio=4, max_det=300, mixup=0.0, mode=train, model=yolov8n-cls.pt, momentum=0.937, mosaic=1.0, multi_scale=False, name=train4, nbs=64, nms=False, opset=None, optimize=False, optimizer=auto, overlap_mask=True, patience=100, perspective=0.0, plots=True, pose=12.0, pretrained=True, profile=False, project=None, rect=False, resume=False, retina_masks=False, save=True, save_conf=False, save_crop=False, save_dir=c:\\Users\\Laura\\Documents\\Projetos Github - Portfolio Python\\YOLO Object Detection - Sketch\\runs\\classify\\train4, save_frames=False, save_json=False, save_period=-1, save_txt=False, scale=0.5, seed=0, shear=0.0, show=False, show_boxes=True, show_conf=True, show_labels=True, simplify=True, single_cls=False, source=None, split=val, stream_buffer=False, task=classify, time=None, tracker=botsort.yaml, translate=0.1, val=True, verbose=True, vid_stride=1, visualize=False, warmup_bias_lr=0.1, warmup_epochs=3.0, warmup_momentum=0.8, weight_decay=0.0005, workers=8, workspace=None\n",
      "\u001b[34m\u001b[1mtrain:\u001b[0m C:\\Users\\Laura\\Documents\\Projetos Github - Portfolio Python\\YOLO Object Detection - Sketch\\weather_dataset\\train... found 1125 images in 4 classes  \n",
      "\u001b[34m\u001b[1mval:\u001b[0m C:\\Users\\Laura\\Documents\\Projetos Github - Portfolio Python\\YOLO Object Detection - Sketch\\weather_dataset\\val... found 49 images in 4 classes  \n",
      "\u001b[34m\u001b[1mtest:\u001b[0m None...\n",
      "Overriding model.yaml nc=1000 with nc=4\n",
      "\n",
      "                   from  n    params  module                                       arguments                     \n",
      "  0                  -1  1       464  ultralytics.nn.modules.conv.Conv             [3, 16, 3, 2]                 \n",
      "  1                  -1  1      4672  ultralytics.nn.modules.conv.Conv             [16, 32, 3, 2]                \n",
      "  2                  -1  1      7360  ultralytics.nn.modules.block.C2f             [32, 32, 1, True]             \n",
      "  3                  -1  1     18560  ultralytics.nn.modules.conv.Conv             [32, 64, 3, 2]                \n",
      "  4                  -1  2     49664  ultralytics.nn.modules.block.C2f             [64, 64, 2, True]             \n",
      "  5                  -1  1     73984  ultralytics.nn.modules.conv.Conv             [64, 128, 3, 2]               \n",
      "  6                  -1  2    197632  ultralytics.nn.modules.block.C2f             [128, 128, 2, True]           \n",
      "  7                  -1  1    295424  ultralytics.nn.modules.conv.Conv             [128, 256, 3, 2]              \n",
      "  8                  -1  1    460288  ultralytics.nn.modules.block.C2f             [256, 256, 1, True]           \n",
      "  9                  -1  1    335364  ultralytics.nn.modules.head.Classify         [256, 4]                      \n",
      "YOLOv8n-cls summary: 56 layers, 1,443,412 parameters, 1,443,412 gradients, 3.4 GFLOPs\n",
      "Transferred 156/158 items from pretrained weights\n",
      "\u001b[34m\u001b[1mtrain: \u001b[0mFast image access  (ping: 0.00.0 ms, read: 177.7252.8 MB/s, size: 22.6 KB)\n"
     ]
    },
    {
     "name": "stderr",
     "output_type": "stream",
     "text": [
      "\u001b[34m\u001b[1mtrain: \u001b[0mScanning C:\\Users\\Laura\\Documents\\Projetos Github - Portfolio Python\\YOLO Object Detection - Sketch\\weather_dataset\\train... 1123 images, 2 corrupt: 100%|██████████| 1123/1123 [00:00<?, ?it/s]"
     ]
    },
    {
     "name": "stdout",
     "output_type": "stream",
     "text": [
      "\u001b[34m\u001b[1mtrain: \u001b[0mC:\\Users\\Laura\\Documents\\Projetos Github - Portfolio Python\\YOLO Object Detection - Sketch\\weather_dataset\\train\\rain\\rain141.jpg: ignoring corrupt image/label: Invalid image format GIF. Supported formats are:\n",
      "images: {'heic', 'png', 'webp', 'mpo', 'dng', 'pfm', 'jpeg', 'tif', 'jpg', 'bmp', 'tiff'}\n",
      "videos: {'m4v', 'mpeg', 'mp4', 'avi', 'ts', 'wmv', 'webm', 'mpg', 'gif', 'mkv', 'asf', 'mov'}\n",
      "\u001b[34m\u001b[1mtrain: \u001b[0mC:\\Users\\Laura\\Documents\\Projetos Github - Portfolio Python\\YOLO Object Detection - Sketch\\weather_dataset\\train\\rain\\rain57.jpg: corrupt JPEG restored and saved\n",
      "\u001b[34m\u001b[1mtrain: \u001b[0mC:\\Users\\Laura\\Documents\\Projetos Github - Portfolio Python\\YOLO Object Detection - Sketch\\weather_dataset\\train\\shine\\shine126.jpg: corrupt JPEG restored and saved\n",
      "\u001b[34m\u001b[1mtrain: \u001b[0mC:\\Users\\Laura\\Documents\\Projetos Github - Portfolio Python\\YOLO Object Detection - Sketch\\weather_dataset\\train\\shine\\shine131.jpg: ignoring corrupt image/label: Invalid image format GIF. Supported formats are:\n",
      "images: {'heic', 'png', 'webp', 'mpo', 'dng', 'pfm', 'jpeg', 'tif', 'jpg', 'bmp', 'tiff'}\n",
      "videos: {'m4v', 'mpeg', 'mp4', 'avi', 'ts', 'wmv', 'webm', 'mpg', 'gif', 'mkv', 'asf', 'mov'}\n",
      "\u001b[34m\u001b[1mval: \u001b[0mFast image access  (ping: 0.00.0 ms, read: 491.3670.1 MB/s, size: 86.5 KB)\n"
     ]
    },
    {
     "name": "stderr",
     "output_type": "stream",
     "text": [
      "\n",
      "c:\\Users\\Laura\\Documents\\Projetos Github - Portfolio Python\\YOLO Object Detection - Sketch\\env\\Lib\\site-packages\\torch\\utils\\data\\dataloader.py:665: UserWarning: 'pin_memory' argument is set as true but no accelerator is found, then device pinned memory won't be used.\n",
      "  warnings.warn(warn_msg)\n",
      "\u001b[34m\u001b[1mval: \u001b[0mScanning C:\\Users\\Laura\\Documents\\Projetos Github - Portfolio Python\\YOLO Object Detection - Sketch\\weather_dataset\\val... 49 images, 0 corrupt: 100%|██████████| 49/49 [00:00<?, ?it/s]"
     ]
    },
    {
     "name": "stdout",
     "output_type": "stream",
     "text": [
      "\u001b[34m\u001b[1moptimizer:\u001b[0m 'optimizer=auto' found, ignoring 'lr0=0.01' and 'momentum=0.937' and determining best 'optimizer', 'lr0' and 'momentum' automatically... \n",
      "\u001b[34m\u001b[1moptimizer:\u001b[0m AdamW(lr=0.00125, momentum=0.9) with parameter groups 26 weight(decay=0.0), 27 weight(decay=0.0005), 27 bias(decay=0.0)\n",
      "Image sizes 64 train, 64 val\n",
      "Using 0 dataloader workers\n",
      "Logging results to \u001b[1mc:\\Users\\Laura\\Documents\\Projetos Github - Portfolio Python\\YOLO Object Detection - Sketch\\runs\\classify\\train4\u001b[0m\n",
      "Starting training for 20 epochs...\n",
      "\n",
      "      Epoch    GPU_mem       loss  Instances       Size\n"
     ]
    },
    {
     "name": "stderr",
     "output_type": "stream",
     "text": [
      "\n",
      "c:\\Users\\Laura\\Documents\\Projetos Github - Portfolio Python\\YOLO Object Detection - Sketch\\env\\Lib\\site-packages\\torch\\utils\\data\\dataloader.py:665: UserWarning: 'pin_memory' argument is set as true but no accelerator is found, then device pinned memory won't be used.\n",
      "  warnings.warn(warn_msg)\n",
      "       1/20         0G      1.108          3         64: 100%|██████████| 71/71 [00:05<00:00, 12.29it/s]\n",
      "               classes   top1_acc   top5_acc: 100%|██████████| 2/2 [00:00<00:00,  7.69it/s]"
     ]
    },
    {
     "name": "stdout",
     "output_type": "stream",
     "text": [
      "                   all      0.857          1\n",
      "\n",
      "      Epoch    GPU_mem       loss  Instances       Size\n"
     ]
    },
    {
     "name": "stderr",
     "output_type": "stream",
     "text": [
      "\n",
      "       2/20         0G     0.4774          3         64: 100%|██████████| 71/71 [00:05<00:00, 13.36it/s]\n",
      "               classes   top1_acc   top5_acc: 100%|██████████| 2/2 [00:00<00:00,  7.95it/s]"
     ]
    },
    {
     "name": "stdout",
     "output_type": "stream",
     "text": [
      "                   all      0.959          1\n",
      "\n",
      "      Epoch    GPU_mem       loss  Instances       Size\n"
     ]
    },
    {
     "name": "stderr",
     "output_type": "stream",
     "text": [
      "\n",
      "       3/20         0G     0.3478          3         64: 100%|██████████| 71/71 [00:05<00:00, 13.77it/s]\n",
      "               classes   top1_acc   top5_acc: 100%|██████████| 2/2 [00:00<00:00,  8.31it/s]"
     ]
    },
    {
     "name": "stdout",
     "output_type": "stream",
     "text": [
      "                   all       0.98          1\n",
      "\n",
      "      Epoch    GPU_mem       loss  Instances       Size\n"
     ]
    },
    {
     "name": "stderr",
     "output_type": "stream",
     "text": [
      "\n",
      "       4/20         0G     0.3155          3         64: 100%|██████████| 71/71 [00:05<00:00, 13.76it/s]\n",
      "               classes   top1_acc   top5_acc: 100%|██████████| 2/2 [00:00<00:00,  7.59it/s]"
     ]
    },
    {
     "name": "stdout",
     "output_type": "stream",
     "text": [
      "                   all          1          1\n",
      "\n",
      "      Epoch    GPU_mem       loss  Instances       Size\n"
     ]
    },
    {
     "name": "stderr",
     "output_type": "stream",
     "text": [
      "\n",
      "       5/20         0G     0.2394          3         64: 100%|██████████| 71/71 [00:05<00:00, 13.64it/s]\n",
      "               classes   top1_acc   top5_acc: 100%|██████████| 2/2 [00:00<00:00,  7.85it/s]"
     ]
    },
    {
     "name": "stdout",
     "output_type": "stream",
     "text": [
      "                   all          1          1\n",
      "\n",
      "      Epoch    GPU_mem       loss  Instances       Size\n"
     ]
    },
    {
     "name": "stderr",
     "output_type": "stream",
     "text": [
      "\n",
      "       6/20         0G     0.2514          3         64: 100%|██████████| 71/71 [00:05<00:00, 13.51it/s]\n",
      "               classes   top1_acc   top5_acc: 100%|██████████| 2/2 [00:00<00:00,  8.09it/s]"
     ]
    },
    {
     "name": "stdout",
     "output_type": "stream",
     "text": [
      "                   all       0.98          1\n",
      "\n",
      "      Epoch    GPU_mem       loss  Instances       Size\n"
     ]
    },
    {
     "name": "stderr",
     "output_type": "stream",
     "text": [
      "\n",
      "       7/20         0G     0.2126          3         64: 100%|██████████| 71/71 [00:05<00:00, 13.95it/s]\n",
      "               classes   top1_acc   top5_acc: 100%|██████████| 2/2 [00:00<00:00,  8.27it/s]"
     ]
    },
    {
     "name": "stdout",
     "output_type": "stream",
     "text": [
      "                   all       0.98          1\n",
      "\n",
      "      Epoch    GPU_mem       loss  Instances       Size\n"
     ]
    },
    {
     "name": "stderr",
     "output_type": "stream",
     "text": [
      "\n",
      "       8/20         0G     0.2328          3         64: 100%|██████████| 71/71 [00:05<00:00, 13.70it/s]\n",
      "               classes   top1_acc   top5_acc: 100%|██████████| 2/2 [00:00<00:00,  7.85it/s]"
     ]
    },
    {
     "name": "stdout",
     "output_type": "stream",
     "text": [
      "                   all       0.98          1\n",
      "\n",
      "      Epoch    GPU_mem       loss  Instances       Size\n"
     ]
    },
    {
     "name": "stderr",
     "output_type": "stream",
     "text": [
      "\n",
      "       9/20         0G     0.1876          3         64: 100%|██████████| 71/71 [00:05<00:00, 13.17it/s]\n",
      "               classes   top1_acc   top5_acc: 100%|██████████| 2/2 [00:00<00:00,  8.36it/s]"
     ]
    },
    {
     "name": "stdout",
     "output_type": "stream",
     "text": [
      "                   all          1          1\n",
      "\n",
      "      Epoch    GPU_mem       loss  Instances       Size\n"
     ]
    },
    {
     "name": "stderr",
     "output_type": "stream",
     "text": [
      "\n",
      "      10/20         0G     0.1799          3         64: 100%|██████████| 71/71 [00:05<00:00, 13.48it/s]\n",
      "               classes   top1_acc   top5_acc: 100%|██████████| 2/2 [00:00<00:00,  8.09it/s]"
     ]
    },
    {
     "name": "stdout",
     "output_type": "stream",
     "text": [
      "                   all          1          1\n"
     ]
    },
    {
     "name": "stderr",
     "output_type": "stream",
     "text": [
      "\n",
      "c:\\Users\\Laura\\Documents\\Projetos Github - Portfolio Python\\YOLO Object Detection - Sketch\\env\\Lib\\site-packages\\torch\\utils\\data\\dataloader.py:665: UserWarning: 'pin_memory' argument is set as true but no accelerator is found, then device pinned memory won't be used.\n",
      "  warnings.warn(warn_msg)\n"
     ]
    },
    {
     "name": "stdout",
     "output_type": "stream",
     "text": [
      "\n",
      "      Epoch    GPU_mem       loss  Instances       Size\n"
     ]
    },
    {
     "name": "stderr",
     "output_type": "stream",
     "text": [
      "      11/20         0G     0.1454          3         64: 100%|██████████| 71/71 [00:05<00:00, 13.76it/s]\n",
      "               classes   top1_acc   top5_acc: 100%|██████████| 2/2 [00:00<00:00,  8.30it/s]"
     ]
    },
    {
     "name": "stdout",
     "output_type": "stream",
     "text": [
      "                   all          1          1\n",
      "\n",
      "      Epoch    GPU_mem       loss  Instances       Size\n"
     ]
    },
    {
     "name": "stderr",
     "output_type": "stream",
     "text": [
      "\n",
      "      12/20         0G      0.158          3         64: 100%|██████████| 71/71 [00:05<00:00, 13.36it/s]\n",
      "               classes   top1_acc   top5_acc: 100%|██████████| 2/2 [00:00<00:00,  7.64it/s]"
     ]
    },
    {
     "name": "stdout",
     "output_type": "stream",
     "text": [
      "                   all          1          1\n",
      "\n",
      "      Epoch    GPU_mem       loss  Instances       Size\n"
     ]
    },
    {
     "name": "stderr",
     "output_type": "stream",
     "text": [
      "\n",
      "      13/20         0G     0.1627          3         64: 100%|██████████| 71/71 [00:05<00:00, 13.71it/s]\n",
      "               classes   top1_acc   top5_acc: 100%|██████████| 2/2 [00:00<00:00,  8.22it/s]"
     ]
    },
    {
     "name": "stdout",
     "output_type": "stream",
     "text": [
      "                   all          1          1\n",
      "\n",
      "      Epoch    GPU_mem       loss  Instances       Size\n"
     ]
    },
    {
     "name": "stderr",
     "output_type": "stream",
     "text": [
      "\n",
      "      14/20         0G     0.1503          3         64: 100%|██████████| 71/71 [00:05<00:00, 13.52it/s]\n",
      "               classes   top1_acc   top5_acc: 100%|██████████| 2/2 [00:00<00:00,  6.99it/s]"
     ]
    },
    {
     "name": "stdout",
     "output_type": "stream",
     "text": [
      "                   all          1          1\n",
      "\n",
      "      Epoch    GPU_mem       loss  Instances       Size\n"
     ]
    },
    {
     "name": "stderr",
     "output_type": "stream",
     "text": [
      "\n",
      "      15/20         0G     0.1228          3         64: 100%|██████████| 71/71 [00:05<00:00, 13.77it/s]\n",
      "               classes   top1_acc   top5_acc: 100%|██████████| 2/2 [00:00<00:00,  8.40it/s]"
     ]
    },
    {
     "name": "stdout",
     "output_type": "stream",
     "text": [
      "                   all          1          1\n",
      "\n",
      "      Epoch    GPU_mem       loss  Instances       Size\n"
     ]
    },
    {
     "name": "stderr",
     "output_type": "stream",
     "text": [
      "\n",
      "      16/20         0G     0.1567          3         64: 100%|██████████| 71/71 [00:05<00:00, 13.94it/s]\n",
      "               classes   top1_acc   top5_acc: 100%|██████████| 2/2 [00:00<00:00,  8.27it/s]"
     ]
    },
    {
     "name": "stdout",
     "output_type": "stream",
     "text": [
      "                   all          1          1\n",
      "\n",
      "      Epoch    GPU_mem       loss  Instances       Size\n"
     ]
    },
    {
     "name": "stderr",
     "output_type": "stream",
     "text": [
      "\n",
      "      17/20         0G     0.1136          3         64: 100%|██████████| 71/71 [00:04<00:00, 14.33it/s]\n",
      "               classes   top1_acc   top5_acc: 100%|██████████| 2/2 [00:00<00:00,  7.55it/s]"
     ]
    },
    {
     "name": "stdout",
     "output_type": "stream",
     "text": [
      "                   all          1          1\n",
      "\n",
      "      Epoch    GPU_mem       loss  Instances       Size\n"
     ]
    },
    {
     "name": "stderr",
     "output_type": "stream",
     "text": [
      "\n",
      "      18/20         0G     0.1227          3         64: 100%|██████████| 71/71 [00:05<00:00, 13.96it/s]\n",
      "               classes   top1_acc   top5_acc: 100%|██████████| 2/2 [00:00<00:00,  8.07it/s]"
     ]
    },
    {
     "name": "stdout",
     "output_type": "stream",
     "text": [
      "                   all          1          1\n",
      "\n",
      "      Epoch    GPU_mem       loss  Instances       Size\n"
     ]
    },
    {
     "name": "stderr",
     "output_type": "stream",
     "text": [
      "\n",
      "      19/20         0G     0.1233          3         64: 100%|██████████| 71/71 [00:05<00:00, 13.91it/s]\n",
      "               classes   top1_acc   top5_acc: 100%|██████████| 2/2 [00:00<00:00,  8.18it/s]"
     ]
    },
    {
     "name": "stdout",
     "output_type": "stream",
     "text": [
      "                   all          1          1\n",
      "\n",
      "      Epoch    GPU_mem       loss  Instances       Size\n"
     ]
    },
    {
     "name": "stderr",
     "output_type": "stream",
     "text": [
      "\n",
      "      20/20         0G     0.1318          3         64: 100%|██████████| 71/71 [00:04<00:00, 14.35it/s]\n",
      "               classes   top1_acc   top5_acc: 100%|██████████| 2/2 [00:00<00:00,  8.43it/s]"
     ]
    },
    {
     "name": "stdout",
     "output_type": "stream",
     "text": [
      "                   all          1          1\n",
      "\n",
      "20 epochs completed in 0.031 hours.\n",
      "Optimizer stripped from c:\\Users\\Laura\\Documents\\Projetos Github - Portfolio Python\\YOLO Object Detection - Sketch\\runs\\classify\\train4\\weights\\last.pt, 3.0MB\n",
      "Optimizer stripped from c:\\Users\\Laura\\Documents\\Projetos Github - Portfolio Python\\YOLO Object Detection - Sketch\\runs\\classify\\train4\\weights\\best.pt, 3.0MB\n",
      "\n",
      "Validating c:\\Users\\Laura\\Documents\\Projetos Github - Portfolio Python\\YOLO Object Detection - Sketch\\runs\\classify\\train4\\weights\\best.pt...\n",
      "Ultralytics 8.3.127  Python-3.13.2 torch-2.7.0+cpu CPU (AMD Ryzen 5 7600X 6-Core Processor)\n",
      "YOLOv8n-cls summary (fused): 30 layers, 1,440,004 parameters, 0 gradients, 3.3 GFLOPs\n",
      "\u001b[34m\u001b[1mtrain:\u001b[0m C:\\Users\\Laura\\Documents\\Projetos Github - Portfolio Python\\YOLO Object Detection - Sketch\\weather_dataset\\train... found 1125 images in 4 classes  \n",
      "\u001b[34m\u001b[1mval:\u001b[0m C:\\Users\\Laura\\Documents\\Projetos Github - Portfolio Python\\YOLO Object Detection - Sketch\\weather_dataset\\val... found 49 images in 4 classes  \n",
      "\u001b[34m\u001b[1mtest:\u001b[0m None...\n"
     ]
    },
    {
     "name": "stderr",
     "output_type": "stream",
     "text": [
      "\n",
      "               classes   top1_acc   top5_acc: 100%|██████████| 2/2 [00:00<00:00,  8.18it/s]\n"
     ]
    },
    {
     "name": "stdout",
     "output_type": "stream",
     "text": [
      "                   all          1          1\n",
      "Speed: 0.0ms preprocess, 0.2ms inference, 0.0ms loss, 0.0ms postprocess per image\n",
      "Results saved to \u001b[1mc:\\Users\\Laura\\Documents\\Projetos Github - Portfolio Python\\YOLO Object Detection - Sketch\\runs\\classify\\train4\u001b[0m\n"
     ]
    },
    {
     "data": {
      "text/plain": [
       "ultralytics.utils.metrics.ClassifyMetrics object with attributes:\n",
       "\n",
       "confusion_matrix: <ultralytics.utils.metrics.ConfusionMatrix object at 0x000001A870FB3E70>\n",
       "curves: []\n",
       "curves_results: []\n",
       "fitness: 1.0\n",
       "keys: ['metrics/accuracy_top1', 'metrics/accuracy_top5']\n",
       "results_dict: {'metrics/accuracy_top1': 1.0, 'metrics/accuracy_top5': 1.0, 'fitness': 1.0}\n",
       "save_dir: WindowsPath('c:/Users/Laura/Documents/Projetos Github - Portfolio Python/YOLO Object Detection - Sketch/runs/classify/train4')\n",
       "speed: {'preprocess': 0.0003857136589988154, 'inference': 0.23466938743082694, 'loss': 2.4489388440032397e-05, 'postprocess': 8.16326806967964e-05}\n",
       "task: 'classify'\n",
       "top1: 1.0\n",
       "top5: 1.0"
      ]
     },
     "execution_count": 7,
     "metadata": {},
     "output_type": "execute_result"
    }
   ],
   "source": [
    "from ultralytics import YOLO\n",
    "\n",
    "model = YOLO('yolov8n-cls.pt')\n",
    "model.train(data=r'C:\\Users\\Laura\\Documents\\Projetos Github - Portfolio Python\\YOLO Object Detection - Sketch\\weather_dataset', epochs=20, imgsz=64)"
   ]
  },
  {
   "cell_type": "code",
   "execution_count": null,
   "id": "3c6e619f",
   "metadata": {},
   "outputs": [
    {
     "data": {
      "image/png": "[encoded data removed]",
      "text/plain": [
       "<Figure size 640x480 with 1 Axes>"
      ]
     },
     "metadata": {},
     "output_type": "display_data"
    },
    {
     "data": {
      "image/png": "[encoded data removed]",
      "text/plain": [
       "<Figure size 640x480 with 1 Axes>"
      ]
     },
     "metadata": {},
     "output_type": "display_data"
    }
   ],
   "source": [
    "%matplotlib inline\n",
    "import os\n",
    "import pandas as pd\n",
    "import matplotlib.pyplot as plt\n",
    "\n",
    "# We want the loss to go down. And the accuracy to go up! :)\n",
    "results_path = r'C:\\Users\\Laura\\Documents\\Projetos Github - Portfolio Python\\YOLO Object Detection - Sketch\\runs\\classify\\train4\\results.csv'\n",
    "\n",
    "results = pd.read_csv(results_path)\n",
    "\n",
    "plt.figure()\n",
    "plt.plot(results['epoch'], results['train/loss'], label='train loss')\n",
    "plt.plot(results['epoch'], results['val/loss'], label='val loss', c='red')\n",
    "plt.xlabel('Epoch')\n",
    "plt.ylabel('Loss')\n",
    "plt.title('Training vs Validation Loss')\n",
    "plt.legend()\n",
    "plt.figure()\n",
    "plt.plot(results['epoch'], results['metrics/accuracy_top1'] * 100)\n",
    "plt.grid()\n",
    "plt.title('Validation accuracy vs epochs')\n",
    "plt.ylabel('accuracy (%)')\n",
    "plt.xlabel('epochs')\n",
    "\n",
    "plt.show()\n"
   ]
  },
  {
   "cell_type": "code",
   "execution_count": 21,
   "id": "ee2ece10",
   "metadata": {},
   "outputs": [
    {
     "name": "stdout",
     "output_type": "stream",
     "text": [
      "\n",
      "image 1/1 C:\\Users\\Laura\\Documents\\Projetos Github - Portfolio Python\\YOLO Object Detection - Sketch\\test\\test.jpg: 64x64 shine 0.98, sunrise 0.01, cloudy 0.01, rain 0.01, 1.7ms\n",
      "Speed: 7.5ms preprocess, 1.7ms inference, 0.0ms postprocess per image at shape (1, 3, 64, 64)\n",
      "{0: 'cloudy', 1: 'rain', 2: 'shine', 3: 'sunrise'}\n",
      "[0.007760155480355024, 0.005282904487103224, 0.9765385985374451, 0.0104183629155159]\n"
     ]
    }
   ],
   "source": [
    "from ultralytics import YOLO\n",
    "\n",
    "#trained model that we'll be using for prediction\n",
    "model = YOLO(r'C:\\Users\\Laura\\Documents\\Projetos Github - Portfolio Python\\YOLO Object Detection - Sketch\\runs\\classify\\train4\\weights\\best.pt')\n",
    "\n",
    "results = model(r'C:\\Users\\Laura\\Documents\\Projetos Github - Portfolio Python\\YOLO Object Detection - Sketch\\test\\test.jpg')\n",
    "\n",
    "names_dict = results[0].names\n",
    "probs = results[0].probs.data.tolist()\n",
    "\n",
    "print(names_dict)\n",
    "print(probs)"
   ]
  }
 ],
 "metadata": {
  "kernelspec": {
   "display_name": "env",
   "language": "python",
   "name": "python3"
  },
  "language_info": {
   "codemirror_mode": {
    "name": "ipython",
    "version": 3
   },
   "file_extension": ".py",
   "mimetype": "text/x-python",
   "name": "python",
   "nbconvert_exporter": "python",
   "pygments_lexer": "ipython3",
   "version": "3.13.2"
  }
 },
 "nbformat": 4,
 "nbformat_minor": 5
}
